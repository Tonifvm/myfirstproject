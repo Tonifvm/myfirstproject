{
 "cells": [
  {
   "cell_type": "code",
   "execution_count": 16,
   "metadata": {},
   "outputs": [
    {
     "name": "stdout",
     "output_type": "stream",
     "text": [
      "el animal nada\n"
     ]
    }
   ],
   "source": [
    "class Terrestre(object):\n",
    "\t\n",
    "\tdef __init__(self, velocidadcaminar):\n",
    "\t\tsuper(Terrestre, self).__init__()\n",
    "\t\tself.velocidadcaminar = velocidadcaminar\n",
    "\t\t\n",
    "\tdef caminar(self):\n",
    "\t\t\tprint (\"estoy caminando\")\n",
    "\n",
    "\tdef desplazar(self):\n",
    "\t\t\tprint (\"el animal anda\")\n",
    "\n",
    "class Acuatico(object):\n",
    "\t\n",
    "\tdef __init__(self, velocidaddenado):\n",
    "\t\tsuper(Acuatico, self).__init__()\n",
    "\t\tself.velocidaddenado = velocidaddenado\n",
    "\n",
    "\tdef nada(self):\n",
    "\t\t\tprint(\"estoy nadando\")\n",
    "\n",
    "\tdef desplazar(self):\n",
    "\t\t\tprint(\"el animal nada\")\n",
    "\n",
    "class cocodrilo ( Acuatico):\n",
    "    pass\n",
    "\n",
    "cocodrilo1 = cocodrilo(1)\n",
    "cocodrilo1.desplazar()\n",
    "\n",
    "\n",
    "\n",
    "\n"
   ]
  },
  {
   "cell_type": "code",
   "execution_count": null,
   "metadata": {},
   "outputs": [],
   "source": []
  },
  {
   "cell_type": "code",
   "execution_count": null,
   "metadata": {},
   "outputs": [],
   "source": []
  },
  {
   "cell_type": "code",
   "execution_count": null,
   "metadata": {},
   "outputs": [],
   "source": []
  }
 ],
 "metadata": {
  "kernelspec": {
   "display_name": "Python 3",
   "language": "python",
   "name": "python3"
  },
  "language_info": {
   "codemirror_mode": {
    "name": "ipython",
    "version": 3
   },
   "file_extension": ".py",
   "mimetype": "text/x-python",
   "name": "python",
   "nbconvert_exporter": "python",
   "pygments_lexer": "ipython3",
   "version": "3.6.4"
  }
 },
 "nbformat": 4,
 "nbformat_minor": 2
}
